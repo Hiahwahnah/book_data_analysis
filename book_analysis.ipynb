{
 "cells": [
  {
   "attachments": {},
   "cell_type": "markdown",
   "metadata": {},
   "source": [
    "Import needed modules"
   ]
  },
  {
   "cell_type": "code",
   "execution_count": 53,
   "metadata": {},
   "outputs": [],
   "source": [
    "import pandas as pd\n",
    "import matplotlib.pyplot as plt\n",
    "import numpy as np"
   ]
  },
  {
   "attachments": {},
   "cell_type": "markdown",
   "metadata": {},
   "source": [
    "Read in the file and set the id to be the index"
   ]
  },
  {
   "cell_type": "code",
   "execution_count": 54,
   "metadata": {},
   "outputs": [],
   "source": [
    "book_data = pd.read_csv(\"best_book_21st.csv\")"
   ]
  },
  {
   "attachments": {},
   "cell_type": "markdown",
   "metadata": {},
   "source": [
    "Gather information about the data"
   ]
  },
  {
   "cell_type": "code",
   "execution_count": 55,
   "metadata": {},
   "outputs": [
    {
     "data": {
      "text/plain": [
       "Index(['id', 'title', 'series', 'author', 'book_link', 'genre',\n",
       "       'date_published', 'publisher', 'num_of_page', 'lang', 'review_count',\n",
       "       'rating_count', 'rate', 'award'],\n",
       "      dtype='object')"
      ]
     },
     "execution_count": 55,
     "metadata": {},
     "output_type": "execute_result"
    }
   ],
   "source": [
    "book_data.columns"
   ]
  },
  {
   "attachments": {},
   "cell_type": "markdown",
   "metadata": {},
   "source": [
    "Start to clean the data"
   ]
  },
  {
   "cell_type": "code",
   "execution_count": 56,
   "metadata": {},
   "outputs": [
    {
     "name": "stdout",
     "output_type": "stream",
     "text": [
      "<class 'pandas.core.frame.DataFrame'>\n",
      "RangeIndex: 10018 entries, 0 to 10017\n",
      "Data columns (total 8 columns):\n",
      " #   Column          Non-Null Count  Dtype  \n",
      "---  ------          --------------  -----  \n",
      " 0   title           10018 non-null  object \n",
      " 1   author          10003 non-null  object \n",
      " 2   genre           9019 non-null   object \n",
      " 3   date_published  9970 non-null   object \n",
      " 4   num_of_page     9737 non-null   float64\n",
      " 5   review_count    10003 non-null  object \n",
      " 6   rating_count    10003 non-null  object \n",
      " 7   rate            10003 non-null  float64\n",
      "dtypes: float64(2), object(6)\n",
      "memory usage: 626.2+ KB\n"
     ]
    }
   ],
   "source": [
    "alt_book_data = book_data.drop(columns=['id', 'series', 'book_link', 'publisher', 'lang', 'award'])\n",
    "\n",
    "# alt_book_data.set_index('title',inplace=True)\n",
    "\n",
    "alt_book_data.info()"
   ]
  },
  {
   "cell_type": "code",
   "execution_count": 57,
   "metadata": {},
   "outputs": [
    {
     "data": {
      "text/plain": [
       "Bloodlines (Bloodlines, #1)                                              4\n",
       "The Shack                                                                3\n",
       "The God Delusion                                                         3\n",
       "Prey                                                                     3\n",
       "Dominion                                                                 3\n",
       "                                                                        ..\n",
       "Shakespeare Saved My Life                                                1\n",
       "The Power (The Secret, #2)                                               1\n",
       "Henna House                                                              1\n",
       "I Remember Running: The Year I Got Everything I Ever Wanted - and ALS    1\n",
       "The Immortal Hunter (Argeneau #11; Rogue Hunter #2)                      1\n",
       "Name: title, Length: 9098, dtype: int64"
      ]
     },
     "execution_count": 57,
     "metadata": {},
     "output_type": "execute_result"
    }
   ],
   "source": [
    "alt_book_data['title'].value_counts()"
   ]
  },
  {
   "cell_type": "code",
   "execution_count": 58,
   "metadata": {},
   "outputs": [],
   "source": [
    "alt_book_data.drop_duplicates(subset='title', keep='first', inplace=True)"
   ]
  },
  {
   "cell_type": "code",
   "execution_count": 59,
   "metadata": {},
   "outputs": [
    {
     "name": "stdout",
     "output_type": "stream",
     "text": [
      "<class 'pandas.core.frame.DataFrame'>\n",
      "Int64Index: 9098 entries, 0 to 10017\n",
      "Data columns (total 8 columns):\n",
      " #   Column          Non-Null Count  Dtype  \n",
      "---  ------          --------------  -----  \n",
      " 0   title           9098 non-null   object \n",
      " 1   author          9083 non-null   object \n",
      " 2   genre           8124 non-null   object \n",
      " 3   date_published  9051 non-null   object \n",
      " 4   num_of_page     8820 non-null   float64\n",
      " 5   review_count    9083 non-null   object \n",
      " 6   rating_count    9083 non-null   object \n",
      " 7   rate            9083 non-null   float64\n",
      "dtypes: float64(2), object(6)\n",
      "memory usage: 639.7+ KB\n"
     ]
    }
   ],
   "source": [
    "alt_book_data.info()"
   ]
  },
  {
   "cell_type": "code",
   "execution_count": 60,
   "metadata": {},
   "outputs": [
    {
     "data": {
      "text/plain": [
       "title               0\n",
       "author             15\n",
       "genre             974\n",
       "date_published     47\n",
       "num_of_page       278\n",
       "review_count       15\n",
       "rating_count       15\n",
       "rate               15\n",
       "dtype: int64"
      ]
     },
     "execution_count": 60,
     "metadata": {},
     "output_type": "execute_result"
    }
   ],
   "source": [
    "alt_book_data.isnull().sum()"
   ]
  },
  {
   "cell_type": "code",
   "execution_count": 61,
   "metadata": {},
   "outputs": [],
   "source": [
    "alt_book_data.dropna(inplace=True)"
   ]
  },
  {
   "cell_type": "code",
   "execution_count": 62,
   "metadata": {},
   "outputs": [
    {
     "data": {
      "text/plain": [
       "(7960, 8)"
      ]
     },
     "execution_count": 62,
     "metadata": {},
     "output_type": "execute_result"
    }
   ],
   "source": [
    "alt_book_data.shape"
   ]
  },
  {
   "cell_type": "code",
   "execution_count": 63,
   "metadata": {},
   "outputs": [
    {
     "data": {
      "text/html": [
       "<div>\n",
       "<style scoped>\n",
       "    .dataframe tbody tr th:only-of-type {\n",
       "        vertical-align: middle;\n",
       "    }\n",
       "\n",
       "    .dataframe tbody tr th {\n",
       "        vertical-align: top;\n",
       "    }\n",
       "\n",
       "    .dataframe thead th {\n",
       "        text-align: right;\n",
       "    }\n",
       "</style>\n",
       "<table border=\"1\" class=\"dataframe\">\n",
       "  <thead>\n",
       "    <tr style=\"text-align: right;\">\n",
       "      <th></th>\n",
       "      <th>title</th>\n",
       "      <th>author</th>\n",
       "      <th>genre</th>\n",
       "      <th>date_published</th>\n",
       "      <th>num_of_page</th>\n",
       "      <th>review_count</th>\n",
       "      <th>rating_count</th>\n",
       "      <th>rate</th>\n",
       "    </tr>\n",
       "  </thead>\n",
       "  <tbody>\n",
       "    <tr>\n",
       "      <th>0</th>\n",
       "      <td>The Martian</td>\n",
       "      <td>Andy Weir</td>\n",
       "      <td>Science Fiction,Fiction,Audiobook,Adventure,Sp...</td>\n",
       "      <td>February 11th 2014</td>\n",
       "      <td>384.0</td>\n",
       "      <td>77,156</td>\n",
       "      <td>919,781</td>\n",
       "      <td>4.40</td>\n",
       "    </tr>\n",
       "    <tr>\n",
       "      <th>1</th>\n",
       "      <td>Under the Banner of Heaven: A Story of Violent...</td>\n",
       "      <td>Jon Krakauer</td>\n",
       "      <td>Nonfiction,Religion,History,Crime,True Crime,M...</td>\n",
       "      <td>2004</td>\n",
       "      <td>400.0</td>\n",
       "      <td>10,981</td>\n",
       "      <td>173,895</td>\n",
       "      <td>3.98</td>\n",
       "    </tr>\n",
       "    <tr>\n",
       "      <th>2</th>\n",
       "      <td>Cutting for Stone</td>\n",
       "      <td>Abraham   Verghese</td>\n",
       "      <td>Fiction,Historical,Historical Fiction,Cultural...</td>\n",
       "      <td>February 3rd 2009</td>\n",
       "      <td>541.0</td>\n",
       "      <td>26,253</td>\n",
       "      <td>353,365</td>\n",
       "      <td>4.29</td>\n",
       "    </tr>\n",
       "    <tr>\n",
       "      <th>3</th>\n",
       "      <td>We Need to Talk About Kevin</td>\n",
       "      <td>Lionel Shriver</td>\n",
       "      <td>Fiction,Contemporary,Thriller,Horror,Mystery,C...</td>\n",
       "      <td>July 3rd 2006</td>\n",
       "      <td>400.0</td>\n",
       "      <td>14,787</td>\n",
       "      <td>187,639</td>\n",
       "      <td>4.04</td>\n",
       "    </tr>\n",
       "    <tr>\n",
       "      <th>4</th>\n",
       "      <td>The Immortal Life of Henrietta Lacks</td>\n",
       "      <td>Rebecca Skloot</td>\n",
       "      <td>Nonfiction,Science,History,Biography,Health,Me...</td>\n",
       "      <td>February 2nd 2010</td>\n",
       "      <td>370.0</td>\n",
       "      <td>36,574</td>\n",
       "      <td>646,155</td>\n",
       "      <td>4.07</td>\n",
       "    </tr>\n",
       "  </tbody>\n",
       "</table>\n",
       "</div>"
      ],
      "text/plain": [
       "                                               title              author  \\\n",
       "0                                        The Martian           Andy Weir   \n",
       "1  Under the Banner of Heaven: A Story of Violent...        Jon Krakauer   \n",
       "2                                  Cutting for Stone  Abraham   Verghese   \n",
       "3                        We Need to Talk About Kevin      Lionel Shriver   \n",
       "4               The Immortal Life of Henrietta Lacks      Rebecca Skloot   \n",
       "\n",
       "                                               genre      date_published  \\\n",
       "0  Science Fiction,Fiction,Audiobook,Adventure,Sp...  February 11th 2014   \n",
       "1  Nonfiction,Religion,History,Crime,True Crime,M...                2004   \n",
       "2  Fiction,Historical,Historical Fiction,Cultural...   February 3rd 2009   \n",
       "3  Fiction,Contemporary,Thriller,Horror,Mystery,C...       July 3rd 2006   \n",
       "4  Nonfiction,Science,History,Biography,Health,Me...   February 2nd 2010   \n",
       "\n",
       "   num_of_page review_count rating_count  rate  \n",
       "0        384.0       77,156      919,781  4.40  \n",
       "1        400.0       10,981      173,895  3.98  \n",
       "2        541.0       26,253      353,365  4.29  \n",
       "3        400.0       14,787      187,639  4.04  \n",
       "4        370.0       36,574      646,155  4.07  "
      ]
     },
     "execution_count": 63,
     "metadata": {},
     "output_type": "execute_result"
    }
   ],
   "source": [
    "alt_book_data.head()"
   ]
  },
  {
   "cell_type": "code",
   "execution_count": 66,
   "metadata": {},
   "outputs": [
    {
     "data": {
      "text/html": [
       "<div>\n",
       "<style scoped>\n",
       "    .dataframe tbody tr th:only-of-type {\n",
       "        vertical-align: middle;\n",
       "    }\n",
       "\n",
       "    .dataframe tbody tr th {\n",
       "        vertical-align: top;\n",
       "    }\n",
       "\n",
       "    .dataframe thead th {\n",
       "        text-align: right;\n",
       "    }\n",
       "</style>\n",
       "<table border=\"1\" class=\"dataframe\">\n",
       "  <thead>\n",
       "    <tr style=\"text-align: right;\">\n",
       "      <th></th>\n",
       "      <th>title</th>\n",
       "      <th>author</th>\n",
       "      <th>genre</th>\n",
       "      <th>date_published</th>\n",
       "      <th>num_of_page</th>\n",
       "      <th>review_count</th>\n",
       "      <th>rating_count</th>\n",
       "      <th>rate</th>\n",
       "    </tr>\n",
       "  </thead>\n",
       "  <tbody>\n",
       "    <tr>\n",
       "      <th>7061</th>\n",
       "      <td>Always and Forever, Lara Jean (To All the Boys...</td>\n",
       "      <td>Jenny Han</td>\n",
       "      <td>Young Adult</td>\n",
       "      <td>May 2nd 2017</td>\n",
       "      <td>325.0</td>\n",
       "      <td>19,362</td>\n",
       "      <td>190,203</td>\n",
       "      <td>4.06</td>\n",
       "    </tr>\n",
       "    <tr>\n",
       "      <th>7392</th>\n",
       "      <td>The Strangers We Became: Lessons in Exile from...</td>\n",
       "      <td>Cynthia Kaplan Shamash</td>\n",
       "      <td>Literature</td>\n",
       "      <td>October 6th 2015</td>\n",
       "      <td>240.0</td>\n",
       "      <td>5</td>\n",
       "      <td>27</td>\n",
       "      <td>3.74</td>\n",
       "    </tr>\n",
       "    <tr>\n",
       "      <th>7523</th>\n",
       "      <td>The Paradox of Vertical Flight</td>\n",
       "      <td>Emil Ostrovski</td>\n",
       "      <td>Young Adult</td>\n",
       "      <td>September 24th 2013</td>\n",
       "      <td>260.0</td>\n",
       "      <td>185</td>\n",
       "      <td>707</td>\n",
       "      <td>3.67</td>\n",
       "    </tr>\n",
       "    <tr>\n",
       "      <th>9754</th>\n",
       "      <td>How Hard Can Love Be? (The Spinster Club, #2)</td>\n",
       "      <td>Holly Bourne</td>\n",
       "      <td>Young Adult</td>\n",
       "      <td>February 1st 2016</td>\n",
       "      <td>480.0</td>\n",
       "      <td>850</td>\n",
       "      <td>7,129</td>\n",
       "      <td>4.12</td>\n",
       "    </tr>\n",
       "    <tr>\n",
       "      <th>5858</th>\n",
       "      <td>Eve (Eve, #1)</td>\n",
       "      <td>Anna Carey</td>\n",
       "      <td>Science Fiction</td>\n",
       "      <td>October 4th 2011</td>\n",
       "      <td>336.0</td>\n",
       "      <td>3,538</td>\n",
       "      <td>42,275</td>\n",
       "      <td>3.69</td>\n",
       "    </tr>\n",
       "    <tr>\n",
       "      <th>7660</th>\n",
       "      <td>Size 12 Is Not Fat (Heather Wells, #1)</td>\n",
       "      <td>Meg Cabot</td>\n",
       "      <td>Womens Fiction</td>\n",
       "      <td>December 27th 2005</td>\n",
       "      <td>345.0</td>\n",
       "      <td>2,780</td>\n",
       "      <td>82,969</td>\n",
       "      <td>3.75</td>\n",
       "    </tr>\n",
       "    <tr>\n",
       "      <th>757</th>\n",
       "      <td>The Historian</td>\n",
       "      <td>Elizabeth Kostova</td>\n",
       "      <td>Fiction</td>\n",
       "      <td>2005</td>\n",
       "      <td>704.0</td>\n",
       "      <td>16,800</td>\n",
       "      <td>258,966</td>\n",
       "      <td>3.79</td>\n",
       "    </tr>\n",
       "    <tr>\n",
       "      <th>5675</th>\n",
       "      <td>Going Down Jericho Road: The Memphis Strike, M...</td>\n",
       "      <td>Michael K. Honey</td>\n",
       "      <td>History</td>\n",
       "      <td>January 15th 2007</td>\n",
       "      <td>640.0</td>\n",
       "      <td>34</td>\n",
       "      <td>213</td>\n",
       "      <td>4.42</td>\n",
       "    </tr>\n",
       "    <tr>\n",
       "      <th>8428</th>\n",
       "      <td>The Declaration (The Declaration, #1)</td>\n",
       "      <td>Gemma Malley</td>\n",
       "      <td>Young Adult</td>\n",
       "      <td>October 2nd 2007</td>\n",
       "      <td>320.0</td>\n",
       "      <td>1,703</td>\n",
       "      <td>21,593</td>\n",
       "      <td>3.71</td>\n",
       "    </tr>\n",
       "    <tr>\n",
       "      <th>9786</th>\n",
       "      <td>Anger Is My Middle Name: A Memoir</td>\n",
       "      <td>Lisbeth Zornig Andersen,Mark Mussari</td>\n",
       "      <td>Nonfiction</td>\n",
       "      <td>March 1st 2020</td>\n",
       "      <td>230.0</td>\n",
       "      <td>98</td>\n",
       "      <td>1,174</td>\n",
       "      <td>4.12</td>\n",
       "    </tr>\n",
       "  </tbody>\n",
       "</table>\n",
       "</div>"
      ],
      "text/plain": [
       "                                                  title  \\\n",
       "7061  Always and Forever, Lara Jean (To All the Boys...   \n",
       "7392  The Strangers We Became: Lessons in Exile from...   \n",
       "7523                     The Paradox of Vertical Flight   \n",
       "9754      How Hard Can Love Be? (The Spinster Club, #2)   \n",
       "5858                                      Eve (Eve, #1)   \n",
       "7660             Size 12 Is Not Fat (Heather Wells, #1)   \n",
       "757                                       The Historian   \n",
       "5675  Going Down Jericho Road: The Memphis Strike, M...   \n",
       "8428              The Declaration (The Declaration, #1)   \n",
       "9786                  Anger Is My Middle Name: A Memoir   \n",
       "\n",
       "                                    author            genre  \\\n",
       "7061                             Jenny Han      Young Adult   \n",
       "7392                Cynthia Kaplan Shamash       Literature   \n",
       "7523                        Emil Ostrovski      Young Adult   \n",
       "9754                          Holly Bourne      Young Adult   \n",
       "5858                            Anna Carey  Science Fiction   \n",
       "7660                             Meg Cabot   Womens Fiction   \n",
       "757                      Elizabeth Kostova          Fiction   \n",
       "5675                      Michael K. Honey          History   \n",
       "8428                          Gemma Malley      Young Adult   \n",
       "9786  Lisbeth Zornig Andersen,Mark Mussari       Nonfiction   \n",
       "\n",
       "           date_published  num_of_page review_count rating_count  rate  \n",
       "7061         May 2nd 2017        325.0       19,362      190,203  4.06  \n",
       "7392     October 6th 2015        240.0            5           27  3.74  \n",
       "7523  September 24th 2013        260.0          185          707  3.67  \n",
       "9754    February 1st 2016        480.0          850        7,129  4.12  \n",
       "5858     October 4th 2011        336.0        3,538       42,275  3.69  \n",
       "7660   December 27th 2005        345.0        2,780       82,969  3.75  \n",
       "757                  2005        704.0       16,800      258,966  3.79  \n",
       "5675    January 15th 2007        640.0           34          213  4.42  \n",
       "8428     October 2nd 2007        320.0        1,703       21,593  3.71  \n",
       "9786       March 1st 2020        230.0           98        1,174  4.12  "
      ]
     },
     "execution_count": 66,
     "metadata": {},
     "output_type": "execute_result"
    }
   ],
   "source": [
    "alt_book_data['genre']=alt_book_data['genre'].str.split(',').str[0]\n",
    "\n",
    "alt_book_data.sample(10)"
   ]
  },
  {
   "cell_type": "code",
   "execution_count": 65,
   "metadata": {},
   "outputs": [
    {
     "name": "stdout",
     "output_type": "stream",
     "text": [
      "<class 'pandas.core.frame.DataFrame'>\n",
      "Int64Index: 7960 entries, 0 to 10017\n",
      "Data columns (total 8 columns):\n",
      " #   Column          Non-Null Count  Dtype  \n",
      "---  ------          --------------  -----  \n",
      " 0   title           7960 non-null   object \n",
      " 1   author          7960 non-null   object \n",
      " 2   genre           7960 non-null   object \n",
      " 3   date_published  7960 non-null   object \n",
      " 4   num_of_page     7960 non-null   float64\n",
      " 5   review_count    7960 non-null   object \n",
      " 6   rating_count    7960 non-null   object \n",
      " 7   rate            7960 non-null   float64\n",
      "dtypes: float64(2), object(6)\n",
      "memory usage: 559.7+ KB\n"
     ]
    }
   ],
   "source": [
    "alt_book_data.info()"
   ]
  }
 ],
 "metadata": {
  "kernelspec": {
   "display_name": "Python 3",
   "language": "python",
   "name": "python3"
  },
  "language_info": {
   "codemirror_mode": {
    "name": "ipython",
    "version": 3
   },
   "file_extension": ".py",
   "mimetype": "text/x-python",
   "name": "python",
   "nbconvert_exporter": "python",
   "pygments_lexer": "ipython3",
   "version": "3.11.1"
  },
  "orig_nbformat": 4,
  "vscode": {
   "interpreter": {
    "hash": "c19fcfbef25e0793fe4e1245110512e3a3d9ac917435d41f597d2a9d1fc970d3"
   }
  }
 },
 "nbformat": 4,
 "nbformat_minor": 2
}
