{
 "cells": [
  {
   "attachments": {},
   "cell_type": "markdown",
   "metadata": {},
   "source": [
    "# Import Needed Modules"
   ]
  },
  {
   "cell_type": "code",
   "execution_count": 18,
   "metadata": {},
   "outputs": [],
   "source": [
    "import pandas as pd\n",
    "import matplotlib.pyplot as plt"
   ]
  },
  {
   "attachments": {},
   "cell_type": "markdown",
   "metadata": {},
   "source": [
    "# Read Data In"
   ]
  },
  {
   "attachments": {},
   "cell_type": "markdown",
   "metadata": {},
   "source": [
    "## Using Pandas read_csv to bring in the local CSV"
   ]
  },
  {
   "cell_type": "code",
   "execution_count": 19,
   "metadata": {},
   "outputs": [],
   "source": [
    "book_data = pd.read_csv(\"assets/best_book_21st.csv\")"
   ]
  },
  {
   "attachments": {},
   "cell_type": "markdown",
   "metadata": {},
   "source": [
    "## Use columns function to see what columns are included in the data and to see the exact spelling of the column."
   ]
  },
  {
   "cell_type": "code",
   "execution_count": 20,
   "metadata": {},
   "outputs": [
    {
     "data": {
      "text/plain": [
       "Index(['id', 'title', 'series', 'author', 'book_link', 'genre',\n",
       "       'date_published', 'publisher', 'num_of_page', 'lang', 'review_count',\n",
       "       'rating_count', 'rate', 'award'],\n",
       "      dtype='object')"
      ]
     },
     "execution_count": 20,
     "metadata": {},
     "output_type": "execute_result"
    }
   ],
   "source": [
    "book_data.columns"
   ]
  },
  {
   "attachments": {},
   "cell_type": "markdown",
   "metadata": {},
   "source": [
    "# Manipulate and Clean Data"
   ]
  },
  {
   "attachments": {},
   "cell_type": "markdown",
   "metadata": {},
   "source": [
    "## Start by dropping unneeded columns using the drop() function\n",
    "\n",
    "## Then use the info() function to gather information and see what else is needed to clean the data"
   ]
  },
  {
   "cell_type": "code",
   "execution_count": 21,
   "metadata": {},
   "outputs": [
    {
     "name": "stdout",
     "output_type": "stream",
     "text": [
      "<class 'pandas.core.frame.DataFrame'>\n",
      "RangeIndex: 10018 entries, 0 to 10017\n",
      "Data columns (total 8 columns):\n",
      " #   Column          Non-Null Count  Dtype  \n",
      "---  ------          --------------  -----  \n",
      " 0   title           10018 non-null  object \n",
      " 1   author          10003 non-null  object \n",
      " 2   genre           9019 non-null   object \n",
      " 3   date_published  9970 non-null   object \n",
      " 4   num_of_page     9737 non-null   float64\n",
      " 5   review_count    10003 non-null  object \n",
      " 6   rating_count    10003 non-null  object \n",
      " 7   rate            10003 non-null  float64\n",
      "dtypes: float64(2), object(6)\n",
      "memory usage: 626.2+ KB\n"
     ]
    }
   ],
   "source": [
    "alt_book_data = book_data.drop(columns=['id', 'series', 'book_link', 'publisher', 'lang', 'award'])\n",
    "\n",
    "alt_book_data.info()"
   ]
  },
  {
   "attachments": {},
   "cell_type": "markdown",
   "metadata": {},
   "source": [
    "## Use value_counts() function to find duplicate titles"
   ]
  },
  {
   "cell_type": "code",
   "execution_count": 22,
   "metadata": {},
   "outputs": [
    {
     "data": {
      "text/plain": [
       "Bloodlines (Bloodlines, #1)                                              4\n",
       "The Shack                                                                3\n",
       "The God Delusion                                                         3\n",
       "Prey                                                                     3\n",
       "Dominion                                                                 3\n",
       "                                                                        ..\n",
       "Shakespeare Saved My Life                                                1\n",
       "The Power (The Secret, #2)                                               1\n",
       "Henna House                                                              1\n",
       "I Remember Running: The Year I Got Everything I Ever Wanted - and ALS    1\n",
       "The Immortal Hunter (Argeneau #11; Rogue Hunter #2)                      1\n",
       "Name: title, Length: 9098, dtype: int64"
      ]
     },
     "execution_count": 22,
     "metadata": {},
     "output_type": "execute_result"
    }
   ],
   "source": [
    "alt_book_data['title'].value_counts()"
   ]
  },
  {
   "attachments": {},
   "cell_type": "markdown",
   "metadata": {},
   "source": [
    "## Use drop_duplicates() function to drop any duplicate titles making sure to keep the first instance of each duplicate so that we don't lose any data"
   ]
  },
  {
   "cell_type": "code",
   "execution_count": 23,
   "metadata": {},
   "outputs": [],
   "source": [
    "alt_book_data.drop_duplicates(subset='title', keep='first', inplace=True)"
   ]
  },
  {
   "attachments": {},
   "cell_type": "markdown",
   "metadata": {},
   "source": [
    "## Use isnull().sum() to see the number of missing values in the dataset"
   ]
  },
  {
   "cell_type": "code",
   "execution_count": 24,
   "metadata": {},
   "outputs": [
    {
     "data": {
      "text/plain": [
       "title               0\n",
       "author             15\n",
       "genre             974\n",
       "date_published     47\n",
       "num_of_page       278\n",
       "review_count       15\n",
       "rating_count       15\n",
       "rate               15\n",
       "dtype: int64"
      ]
     },
     "execution_count": 24,
     "metadata": {},
     "output_type": "execute_result"
    }
   ],
   "source": [
    "alt_book_data.isnull().sum()"
   ]
  },
  {
   "attachments": {},
   "cell_type": "markdown",
   "metadata": {},
   "source": [
    "## Use dropna() function to remove the rows that contain null values"
   ]
  },
  {
   "cell_type": "code",
   "execution_count": 25,
   "metadata": {},
   "outputs": [],
   "source": [
    "alt_book_data.dropna(inplace=True)"
   ]
  },
  {
   "attachments": {},
   "cell_type": "markdown",
   "metadata": {},
   "source": [
    "## Use split() function to drop the comma and everything after it in the genre column\n",
    "\n",
    "## Use sample() function to view what data looks like at this point"
   ]
  },
  {
   "cell_type": "code",
   "execution_count": 26,
   "metadata": {},
   "outputs": [
    {
     "data": {
      "text/html": [
       "<div>\n",
       "<style scoped>\n",
       "    .dataframe tbody tr th:only-of-type {\n",
       "        vertical-align: middle;\n",
       "    }\n",
       "\n",
       "    .dataframe tbody tr th {\n",
       "        vertical-align: top;\n",
       "    }\n",
       "\n",
       "    .dataframe thead th {\n",
       "        text-align: right;\n",
       "    }\n",
       "</style>\n",
       "<table border=\"1\" class=\"dataframe\">\n",
       "  <thead>\n",
       "    <tr style=\"text-align: right;\">\n",
       "      <th></th>\n",
       "      <th>title</th>\n",
       "      <th>author</th>\n",
       "      <th>genre</th>\n",
       "      <th>date_published</th>\n",
       "      <th>num_of_page</th>\n",
       "      <th>review_count</th>\n",
       "      <th>rating_count</th>\n",
       "      <th>rate</th>\n",
       "    </tr>\n",
       "  </thead>\n",
       "  <tbody>\n",
       "    <tr>\n",
       "      <th>7392</th>\n",
       "      <td>The Strangers We Became: Lessons in Exile from...</td>\n",
       "      <td>Cynthia Kaplan Shamash</td>\n",
       "      <td>Literature</td>\n",
       "      <td>October 6th 2015</td>\n",
       "      <td>240.0</td>\n",
       "      <td>5</td>\n",
       "      <td>27</td>\n",
       "      <td>3.74</td>\n",
       "    </tr>\n",
       "    <tr>\n",
       "      <th>7037</th>\n",
       "      <td>Empress</td>\n",
       "      <td>Shan Sa</td>\n",
       "      <td>Historical</td>\n",
       "      <td>May 2nd 2006</td>\n",
       "      <td>336.0</td>\n",
       "      <td>456</td>\n",
       "      <td>5,879</td>\n",
       "      <td>3.69</td>\n",
       "    </tr>\n",
       "    <tr>\n",
       "      <th>6870</th>\n",
       "      <td>Closer (Tunnels, #4)</td>\n",
       "      <td>Roderick Gordon,Brian  Williams</td>\n",
       "      <td>Fantasy</td>\n",
       "      <td>February 1st 2011</td>\n",
       "      <td>527.0</td>\n",
       "      <td>201</td>\n",
       "      <td>4,468</td>\n",
       "      <td>4.11</td>\n",
       "    </tr>\n",
       "    <tr>\n",
       "      <th>373</th>\n",
       "      <td>The Thousand Autumns of Jacob de Zoet</td>\n",
       "      <td>David Mitchell</td>\n",
       "      <td>Fiction</td>\n",
       "      <td>June 29th 2010</td>\n",
       "      <td>479.0</td>\n",
       "      <td>6,239</td>\n",
       "      <td>65,840</td>\n",
       "      <td>3.96</td>\n",
       "    </tr>\n",
       "    <tr>\n",
       "      <th>5805</th>\n",
       "      <td>Mal de piedras</td>\n",
       "      <td>Milena Agus</td>\n",
       "      <td>Fiction</td>\n",
       "      <td>2008</td>\n",
       "      <td>114.0</td>\n",
       "      <td>421</td>\n",
       "      <td>2,897</td>\n",
       "      <td>3.55</td>\n",
       "    </tr>\n",
       "    <tr>\n",
       "      <th>403</th>\n",
       "      <td>Heir of Fire (Throne of Glass, #3)</td>\n",
       "      <td>Sarah J. Maas</td>\n",
       "      <td>Fantasy</td>\n",
       "      <td>September 2nd 2014</td>\n",
       "      <td>565.0</td>\n",
       "      <td>29,582</td>\n",
       "      <td>379,885</td>\n",
       "      <td>4.44</td>\n",
       "    </tr>\n",
       "    <tr>\n",
       "      <th>8767</th>\n",
       "      <td>Beyond the Grave (The 39 Clues, #4)</td>\n",
       "      <td>Jude Watson</td>\n",
       "      <td>Mystery</td>\n",
       "      <td>June 2nd 2009</td>\n",
       "      <td>190.0</td>\n",
       "      <td>994</td>\n",
       "      <td>45,441</td>\n",
       "      <td>3.92</td>\n",
       "    </tr>\n",
       "    <tr>\n",
       "      <th>3670</th>\n",
       "      <td>A Cancer Prevention Guide for the Human Race</td>\n",
       "      <td>Robert A. Wascher</td>\n",
       "      <td>Health</td>\n",
       "      <td>September 7th 2010</td>\n",
       "      <td>176.0</td>\n",
       "      <td>19</td>\n",
       "      <td>64</td>\n",
       "      <td>4.03</td>\n",
       "    </tr>\n",
       "    <tr>\n",
       "      <th>505</th>\n",
       "      <td>Seven Up (Stephanie Plum, #7)</td>\n",
       "      <td>Janet Evanovich</td>\n",
       "      <td>Mystery</td>\n",
       "      <td>June 17th 2002</td>\n",
       "      <td>337.0</td>\n",
       "      <td>2,259</td>\n",
       "      <td>123,743</td>\n",
       "      <td>4.12</td>\n",
       "    </tr>\n",
       "    <tr>\n",
       "      <th>7225</th>\n",
       "      <td>Dominion: How the Christian Revolution Remade ...</td>\n",
       "      <td>Tom Holland</td>\n",
       "      <td>History</td>\n",
       "      <td>October 29th 2019</td>\n",
       "      <td>624.0</td>\n",
       "      <td>466</td>\n",
       "      <td>2,820</td>\n",
       "      <td>4.24</td>\n",
       "    </tr>\n",
       "  </tbody>\n",
       "</table>\n",
       "</div>"
      ],
      "text/plain": [
       "                                                  title  \\\n",
       "7392  The Strangers We Became: Lessons in Exile from...   \n",
       "7037                                            Empress   \n",
       "6870                               Closer (Tunnels, #4)   \n",
       "373               The Thousand Autumns of Jacob de Zoet   \n",
       "5805                                     Mal de piedras   \n",
       "403                  Heir of Fire (Throne of Glass, #3)   \n",
       "8767                Beyond the Grave (The 39 Clues, #4)   \n",
       "3670       A Cancer Prevention Guide for the Human Race   \n",
       "505                       Seven Up (Stephanie Plum, #7)   \n",
       "7225  Dominion: How the Christian Revolution Remade ...   \n",
       "\n",
       "                               author       genre      date_published  \\\n",
       "7392           Cynthia Kaplan Shamash  Literature    October 6th 2015   \n",
       "7037                          Shan Sa  Historical        May 2nd 2006   \n",
       "6870  Roderick Gordon,Brian  Williams     Fantasy   February 1st 2011   \n",
       "373                    David Mitchell     Fiction      June 29th 2010   \n",
       "5805                      Milena Agus     Fiction                2008   \n",
       "403                     Sarah J. Maas     Fantasy  September 2nd 2014   \n",
       "8767                      Jude Watson     Mystery       June 2nd 2009   \n",
       "3670                Robert A. Wascher      Health  September 7th 2010   \n",
       "505                   Janet Evanovich     Mystery      June 17th 2002   \n",
       "7225                      Tom Holland     History   October 29th 2019   \n",
       "\n",
       "      num_of_page review_count rating_count  rate  \n",
       "7392        240.0            5           27  3.74  \n",
       "7037        336.0          456        5,879  3.69  \n",
       "6870        527.0          201        4,468  4.11  \n",
       "373         479.0        6,239       65,840  3.96  \n",
       "5805        114.0          421        2,897  3.55  \n",
       "403         565.0       29,582      379,885  4.44  \n",
       "8767        190.0          994       45,441  3.92  \n",
       "3670        176.0           19           64  4.03  \n",
       "505         337.0        2,259      123,743  4.12  \n",
       "7225        624.0          466        2,820  4.24  "
      ]
     },
     "execution_count": 26,
     "metadata": {},
     "output_type": "execute_result"
    }
   ],
   "source": [
    "alt_book_data['genre']=alt_book_data['genre'].str.split(',').str[0]\n",
    "\n",
    "alt_book_data.sample(10)"
   ]
  },
  {
   "attachments": {},
   "cell_type": "markdown",
   "metadata": {},
   "source": [
    "## Renamed the \"rate\" colum to \"rating\" using the rename() function"
   ]
  },
  {
   "cell_type": "code",
   "execution_count": 27,
   "metadata": {},
   "outputs": [
    {
     "name": "stdout",
     "output_type": "stream",
     "text": [
      "<class 'pandas.core.frame.DataFrame'>\n",
      "Int64Index: 7960 entries, 0 to 10017\n",
      "Data columns (total 8 columns):\n",
      " #   Column          Non-Null Count  Dtype  \n",
      "---  ------          --------------  -----  \n",
      " 0   title           7960 non-null   object \n",
      " 1   author          7960 non-null   object \n",
      " 2   genre           7960 non-null   object \n",
      " 3   date_published  7960 non-null   object \n",
      " 4   num_of_page     7960 non-null   float64\n",
      " 5   review_count    7960 non-null   object \n",
      " 6   rating_count    7960 non-null   object \n",
      " 7   rating          7960 non-null   float64\n",
      "dtypes: float64(2), object(6)\n",
      "memory usage: 559.7+ KB\n"
     ]
    }
   ],
   "source": [
    "alt_book_data.rename(columns = {'rate':'rating'}, inplace = True)\n",
    "alt_book_data.info()"
   ]
  },
  {
   "attachments": {},
   "cell_type": "markdown",
   "metadata": {},
   "source": [
    "# Analyze Data and Visualize Data"
   ]
  },
  {
   "attachments": {},
   "cell_type": "markdown",
   "metadata": {},
   "source": [
    "## Use mean() function to find the average rating of all the titles on a scale of 1-5"
   ]
  },
  {
   "cell_type": "code",
   "execution_count": 28,
   "metadata": {},
   "outputs": [
    {
     "data": {
      "text/plain": [
       "3.9643643216080404"
      ]
     },
     "execution_count": 28,
     "metadata": {},
     "output_type": "execute_result"
    }
   ],
   "source": [
    "alt_book_data['rating'].mean()"
   ]
  },
  {
   "attachments": {},
   "cell_type": "markdown",
   "metadata": {},
   "source": [
    "## Use .sum() to find the total number of pages in all of the books combined"
   ]
  },
  {
   "cell_type": "code",
   "execution_count": 29,
   "metadata": {},
   "outputs": [
    {
     "data": {
      "text/plain": [
       "2882223.0"
      ]
     },
     "execution_count": 29,
     "metadata": {},
     "output_type": "execute_result"
    }
   ],
   "source": [
    "alt_book_data['num_of_page'].sum()"
   ]
  },
  {
   "attachments": {},
   "cell_type": "markdown",
   "metadata": {},
   "source": [
    "## Use .nlargest() to create a new dataframe that shows the 5 titles with the highest number of pages"
   ]
  },
  {
   "cell_type": "code",
   "execution_count": 30,
   "metadata": {},
   "outputs": [
    {
     "name": "stdout",
     "output_type": "stream",
     "text": [
      "                                                  title  num_of_page\n",
      "5490           Harry Potter Boxset (Harry Potter, #1-7)       4167.0\n",
      "2900  A Song of Ice and Fire (A Song of Ice and Fire...       4081.0\n",
      "9202  The Dark Tower Series: Books 1-7 (The Dark Tow...       3914.0\n",
      "7832       Harry Potter Collection (Harry Potter, #1-6)       3342.0\n",
      "6124  The Collected Joe Abercrombie: The Blade Itsel...       3008.0\n"
     ]
    }
   ],
   "source": [
    "top_titles = alt_book_data.nlargest(5, 'num_of_page')\n",
    "\n",
    "print(top_titles[['title', 'num_of_page']])"
   ]
  },
  {
   "attachments": {},
   "cell_type": "markdown",
   "metadata": {},
   "source": [
    "## Use .count() function along with .nlargest() function to show the 5 authors with the most titles as well as show that information on a graph"
   ]
  },
  {
   "cell_type": "code",
   "execution_count": 31,
   "metadata": {},
   "outputs": [
    {
     "name": "stdout",
     "output_type": "stream",
     "text": [
      "author\n",
      "Lynsay Sands        26\n",
      "Stephen King        21\n",
      "Kelley Armstrong    20\n",
      "Lucian Bane         20\n",
      "Richelle Mead       20\n",
      "Name: title, dtype: int64\n"
     ]
    }
   ],
   "source": [
    "top_authors = alt_book_data.groupby('author')['title'].count().nlargest(5)\n",
    "\n",
    "print(top_authors)"
   ]
  },
  {
   "cell_type": "code",
   "execution_count": 32,
   "metadata": {},
   "outputs": [
    {
     "data": {
      "image/png": "[encoded data removed]",
      "text/plain": [
       "<Figure size 800x600 with 1 Axes>"
      ]
     },
     "metadata": {},
     "output_type": "display_data"
    }
   ],
   "source": [
    "plt.figure(figsize=(8, 6))\n",
    "colors = ['tab:red', 'tab:orange', 'tab:blue', 'tab:green', 'tab:purple']\n",
    "plt.bar(top_authors.index, top_authors.values, color=colors)\n",
    "plt.title('The 5 Authors With the Most Titles')\n",
    "plt.xlabel('Author')\n",
    "plt.ylabel('# of Titles')\n",
    "plt.show()"
   ]
  },
  {
   "attachments": {},
   "cell_type": "markdown",
   "metadata": {},
   "source": [
    "## Use .mean() function along with .nlargest() function to show top 5 genres based on ratings as well as show that information on a graph"
   ]
  },
  {
   "cell_type": "code",
   "execution_count": 33,
   "metadata": {},
   "outputs": [
    {
     "name": "stdout",
     "output_type": "stream",
     "text": [
      "genre\n",
      "Humanities       4.610\n",
      "Urban            4.509\n",
      "Inspirational    4.490\n",
      "Classics         4.340\n",
      "Labor            4.340\n",
      "Name: rating, dtype: float64\n"
     ]
    }
   ],
   "source": [
    "top_genres = alt_book_data.groupby('genre')['rating'].mean().nlargest(5)\n",
    "\n",
    "print(top_genres)"
   ]
  },
  {
   "cell_type": "code",
   "execution_count": 34,
   "metadata": {},
   "outputs": [
    {
     "data": {
      "image/png": "[encoded data removed]",
      "text/plain": [
       "<Figure size 800x600 with 1 Axes>"
      ]
     },
     "metadata": {},
     "output_type": "display_data"
    }
   ],
   "source": [
    "plt.figure(figsize=(8, 6))\n",
    "colors = ['tab:blue', 'tab:orange', 'tab:green', 'tab:red', 'tab:purple']\n",
    "plt.bar(top_genres.index, top_genres.values, color=colors)\n",
    "plt.title('Top 5 Genres by Average Rating')\n",
    "plt.xlabel('Genre')\n",
    "plt.ylabel('Average Rating')\n",
    "plt.show()"
   ]
  },
  {
   "attachments": {},
   "cell_type": "markdown",
   "metadata": {},
   "source": [
    "# Interpret Data"
   ]
  },
  {
   "attachments": {},
   "cell_type": "markdown",
   "metadata": {},
   "source": [
    "This is where I will add my interpretation of the above data"
   ]
  }
 ],
 "metadata": {
  "kernelspec": {
   "display_name": "Python 3",
   "language": "python",
   "name": "python3"
  },
  "language_info": {
   "codemirror_mode": {
    "name": "ipython",
    "version": 3
   },
   "file_extension": ".py",
   "mimetype": "text/x-python",
   "name": "python",
   "nbconvert_exporter": "python",
   "pygments_lexer": "ipython3",
   "version": "3.11.1"
  },
  "orig_nbformat": 4,
  "vscode": {
   "interpreter": {
    "hash": "c19fcfbef25e0793fe4e1245110512e3a3d9ac917435d41f597d2a9d1fc970d3"
   }
  }
 },
 "nbformat": 4,
 "nbformat_minor": 2
}
