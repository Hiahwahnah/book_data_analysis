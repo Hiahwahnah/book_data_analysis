{
 "cells": [
  {
   "attachments": {},
   "cell_type": "markdown",
   "metadata": {},
   "source": [
    "# Import Needed Modules"
   ]
  },
  {
   "cell_type": "code",
   "execution_count": 1,
   "metadata": {},
   "outputs": [],
   "source": [
    "import pandas as pd\n",
    "import matplotlib.pyplot as plt"
   ]
  },
  {
   "attachments": {},
   "cell_type": "markdown",
   "metadata": {},
   "source": [
    "# Read Data In"
   ]
  },
  {
   "attachments": {},
   "cell_type": "markdown",
   "metadata": {},
   "source": [
    "## Using Pandas read_csv to bring in the local CSV"
   ]
  },
  {
   "cell_type": "code",
   "execution_count": 2,
   "metadata": {},
   "outputs": [],
   "source": [
    "book_data = pd.read_csv(\"best_book_21st.csv\")"
   ]
  },
  {
   "attachments": {},
   "cell_type": "markdown",
   "metadata": {},
   "source": [
    "## Use columns() function to see what columns are included in the data and to see the exact spelling of the column."
   ]
  },
  {
   "cell_type": "code",
   "execution_count": 3,
   "metadata": {},
   "outputs": [
    {
     "data": {
      "text/plain": [
       "Index(['id', 'title', 'series', 'author', 'book_link', 'genre',\n",
       "       'date_published', 'publisher', 'num_of_page', 'lang', 'review_count',\n",
       "       'rating_count', 'rate', 'award'],\n",
       "      dtype='object')"
      ]
     },
     "execution_count": 3,
     "metadata": {},
     "output_type": "execute_result"
    }
   ],
   "source": [
    "book_data.columns"
   ]
  },
  {
   "attachments": {},
   "cell_type": "markdown",
   "metadata": {},
   "source": [
    "# Manipulate and Clean Data"
   ]
  },
  {
   "attachments": {},
   "cell_type": "markdown",
   "metadata": {},
   "source": [
    "## Start by dropping unneeded columns using the drop() function\n",
    "\n",
    "## Then use the info() function to gather information and see what else is needed to clean the data"
   ]
  },
  {
   "cell_type": "code",
   "execution_count": 4,
   "metadata": {},
   "outputs": [
    {
     "name": "stdout",
     "output_type": "stream",
     "text": [
      "<class 'pandas.core.frame.DataFrame'>\n",
      "RangeIndex: 10018 entries, 0 to 10017\n",
      "Data columns (total 8 columns):\n",
      " #   Column          Non-Null Count  Dtype  \n",
      "---  ------          --------------  -----  \n",
      " 0   title           10018 non-null  object \n",
      " 1   author          10003 non-null  object \n",
      " 2   genre           9019 non-null   object \n",
      " 3   date_published  9970 non-null   object \n",
      " 4   num_of_page     9737 non-null   float64\n",
      " 5   review_count    10003 non-null  object \n",
      " 6   rating_count    10003 non-null  object \n",
      " 7   rate            10003 non-null  float64\n",
      "dtypes: float64(2), object(6)\n",
      "memory usage: 626.2+ KB\n"
     ]
    }
   ],
   "source": [
    "alt_book_data = book_data.drop(columns=['id', 'series', 'book_link', 'publisher', 'lang', 'award'])\n",
    "\n",
    "alt_book_data.info()"
   ]
  },
  {
   "attachments": {},
   "cell_type": "markdown",
   "metadata": {},
   "source": [
    "## Use value_counts() function to find duplicate titles"
   ]
  },
  {
   "cell_type": "code",
   "execution_count": 5,
   "metadata": {},
   "outputs": [
    {
     "data": {
      "text/plain": [
       "Bloodlines (Bloodlines, #1)                                              4\n",
       "The Shack                                                                3\n",
       "The God Delusion                                                         3\n",
       "Prey                                                                     3\n",
       "Dominion                                                                 3\n",
       "                                                                        ..\n",
       "Shakespeare Saved My Life                                                1\n",
       "The Power (The Secret, #2)                                               1\n",
       "Henna House                                                              1\n",
       "I Remember Running: The Year I Got Everything I Ever Wanted - and ALS    1\n",
       "The Immortal Hunter (Argeneau #11; Rogue Hunter #2)                      1\n",
       "Name: title, Length: 9098, dtype: int64"
      ]
     },
     "execution_count": 5,
     "metadata": {},
     "output_type": "execute_result"
    }
   ],
   "source": [
    "alt_book_data['title'].value_counts()"
   ]
  },
  {
   "attachments": {},
   "cell_type": "markdown",
   "metadata": {},
   "source": [
    "## Use drop_duplicates() function to drop any duplicate titles making sure to keep the first instance of each duplicate so that we don't lose any data"
   ]
  },
  {
   "cell_type": "code",
   "execution_count": 6,
   "metadata": {},
   "outputs": [],
   "source": [
    "alt_book_data.drop_duplicates(subset='title', keep='first', inplace=True)"
   ]
  },
  {
   "attachments": {},
   "cell_type": "markdown",
   "metadata": {},
   "source": [
    "## Use isnull().sum() to see the number of missing values in the dataset"
   ]
  },
  {
   "cell_type": "code",
   "execution_count": 7,
   "metadata": {},
   "outputs": [
    {
     "data": {
      "text/plain": [
       "title               0\n",
       "author             15\n",
       "genre             974\n",
       "date_published     47\n",
       "num_of_page       278\n",
       "review_count       15\n",
       "rating_count       15\n",
       "rate               15\n",
       "dtype: int64"
      ]
     },
     "execution_count": 7,
     "metadata": {},
     "output_type": "execute_result"
    }
   ],
   "source": [
    "alt_book_data.isnull().sum()"
   ]
  },
  {
   "attachments": {},
   "cell_type": "markdown",
   "metadata": {},
   "source": [
    "## Use dropna() function to remove the rows that contain null values"
   ]
  },
  {
   "cell_type": "code",
   "execution_count": 8,
   "metadata": {},
   "outputs": [],
   "source": [
    "alt_book_data.dropna(inplace=True)"
   ]
  },
  {
   "attachments": {},
   "cell_type": "markdown",
   "metadata": {},
   "source": [
    "## Use split() function to drop the comma and everything after it in the genre column\n",
    "\n",
    "## Use sample() function to view what data looks like at this point"
   ]
  },
  {
   "cell_type": "code",
   "execution_count": 9,
   "metadata": {},
   "outputs": [
    {
     "data": {
      "text/html": [
       "<div>\n",
       "<style scoped>\n",
       "    .dataframe tbody tr th:only-of-type {\n",
       "        vertical-align: middle;\n",
       "    }\n",
       "\n",
       "    .dataframe tbody tr th {\n",
       "        vertical-align: top;\n",
       "    }\n",
       "\n",
       "    .dataframe thead th {\n",
       "        text-align: right;\n",
       "    }\n",
       "</style>\n",
       "<table border=\"1\" class=\"dataframe\">\n",
       "  <thead>\n",
       "    <tr style=\"text-align: right;\">\n",
       "      <th></th>\n",
       "      <th>title</th>\n",
       "      <th>author</th>\n",
       "      <th>genre</th>\n",
       "      <th>date_published</th>\n",
       "      <th>num_of_page</th>\n",
       "      <th>review_count</th>\n",
       "      <th>rating_count</th>\n",
       "      <th>rate</th>\n",
       "    </tr>\n",
       "  </thead>\n",
       "  <tbody>\n",
       "    <tr>\n",
       "      <th>6368</th>\n",
       "      <td>A Year in the Life of William Shakespeare: 1599</td>\n",
       "      <td>James Shapiro</td>\n",
       "      <td>History</td>\n",
       "      <td>June 13th 2006</td>\n",
       "      <td>333.0</td>\n",
       "      <td>383</td>\n",
       "      <td>3,307</td>\n",
       "      <td>4.09</td>\n",
       "    </tr>\n",
       "    <tr>\n",
       "      <th>6975</th>\n",
       "      <td>Priestess of the White (Age of the Five, #1)</td>\n",
       "      <td>Trudi Canavan</td>\n",
       "      <td>Fantasy</td>\n",
       "      <td>January 1st 2006</td>\n",
       "      <td>688.0</td>\n",
       "      <td>546</td>\n",
       "      <td>16,092</td>\n",
       "      <td>3.87</td>\n",
       "    </tr>\n",
       "    <tr>\n",
       "      <th>7646</th>\n",
       "      <td>Devil's Business (Black London, #4)</td>\n",
       "      <td>Caitlin Kittredge</td>\n",
       "      <td>Fantasy</td>\n",
       "      <td>August 30th 2011</td>\n",
       "      <td>336.0</td>\n",
       "      <td>59</td>\n",
       "      <td>654</td>\n",
       "      <td>3.77</td>\n",
       "    </tr>\n",
       "    <tr>\n",
       "      <th>1938</th>\n",
       "      <td>Grave Goods (Mistress of the Art of Death, #3)</td>\n",
       "      <td>Ariana Franklin</td>\n",
       "      <td>Historical</td>\n",
       "      <td>April 1st 2009</td>\n",
       "      <td>336.0</td>\n",
       "      <td>907</td>\n",
       "      <td>10,955</td>\n",
       "      <td>4.11</td>\n",
       "    </tr>\n",
       "    <tr>\n",
       "      <th>5968</th>\n",
       "      <td>The Social Conquest of Earth</td>\n",
       "      <td>Edward O. Wilson</td>\n",
       "      <td>Science</td>\n",
       "      <td>April 9th 2012</td>\n",
       "      <td>352.0</td>\n",
       "      <td>398</td>\n",
       "      <td>3,722</td>\n",
       "      <td>4.01</td>\n",
       "    </tr>\n",
       "    <tr>\n",
       "      <th>9383</th>\n",
       "      <td>Slightly Shady (Lavinia Lake and Tobias March,...</td>\n",
       "      <td>Amanda Quick,Jayne Ann Krentz</td>\n",
       "      <td>Romance</td>\n",
       "      <td>March 26th 2002</td>\n",
       "      <td>321.0</td>\n",
       "      <td>262</td>\n",
       "      <td>5,278</td>\n",
       "      <td>3.83</td>\n",
       "    </tr>\n",
       "    <tr>\n",
       "      <th>6949</th>\n",
       "      <td>What the Day Owes the Night</td>\n",
       "      <td>Yasmina Khadra</td>\n",
       "      <td>Fiction</td>\n",
       "      <td>May 27th 2010</td>\n",
       "      <td>400.0</td>\n",
       "      <td>454</td>\n",
       "      <td>4,704</td>\n",
       "      <td>4.20</td>\n",
       "    </tr>\n",
       "    <tr>\n",
       "      <th>7942</th>\n",
       "      <td>Gorgeous (Avery Sisters Trilogy, #2)</td>\n",
       "      <td>Rachel Vail</td>\n",
       "      <td>Young Adult</td>\n",
       "      <td>May 26th 2009</td>\n",
       "      <td>288.0</td>\n",
       "      <td>143</td>\n",
       "      <td>1,793</td>\n",
       "      <td>3.86</td>\n",
       "    </tr>\n",
       "    <tr>\n",
       "      <th>5896</th>\n",
       "      <td>Tricksters (Daughter of the Lioness, #1-2)</td>\n",
       "      <td>Tamora Pierce</td>\n",
       "      <td>Fantasy</td>\n",
       "      <td>March 2005</td>\n",
       "      <td>590.0</td>\n",
       "      <td>44</td>\n",
       "      <td>4,509</td>\n",
       "      <td>4.57</td>\n",
       "    </tr>\n",
       "    <tr>\n",
       "      <th>3314</th>\n",
       "      <td>The Hydrogen Sonata (Culture #10)</td>\n",
       "      <td>Iain M. Banks</td>\n",
       "      <td>Science Fiction</td>\n",
       "      <td>October 4th 2012</td>\n",
       "      <td>517.0</td>\n",
       "      <td>1,282</td>\n",
       "      <td>22,460</td>\n",
       "      <td>4.17</td>\n",
       "    </tr>\n",
       "  </tbody>\n",
       "</table>\n",
       "</div>"
      ],
      "text/plain": [
       "                                                  title  \\\n",
       "6368    A Year in the Life of William Shakespeare: 1599   \n",
       "6975       Priestess of the White (Age of the Five, #1)   \n",
       "7646                Devil's Business (Black London, #4)   \n",
       "1938     Grave Goods (Mistress of the Art of Death, #3)   \n",
       "5968                       The Social Conquest of Earth   \n",
       "9383  Slightly Shady (Lavinia Lake and Tobias March,...   \n",
       "6949                        What the Day Owes the Night   \n",
       "7942               Gorgeous (Avery Sisters Trilogy, #2)   \n",
       "5896         Tricksters (Daughter of the Lioness, #1-2)   \n",
       "3314                  The Hydrogen Sonata (Culture #10)   \n",
       "\n",
       "                             author            genre    date_published  \\\n",
       "6368                  James Shapiro          History    June 13th 2006   \n",
       "6975                  Trudi Canavan          Fantasy  January 1st 2006   \n",
       "7646              Caitlin Kittredge          Fantasy  August 30th 2011   \n",
       "1938                Ariana Franklin       Historical    April 1st 2009   \n",
       "5968               Edward O. Wilson          Science    April 9th 2012   \n",
       "9383  Amanda Quick,Jayne Ann Krentz          Romance   March 26th 2002   \n",
       "6949                 Yasmina Khadra          Fiction     May 27th 2010   \n",
       "7942                    Rachel Vail      Young Adult     May 26th 2009   \n",
       "5896                  Tamora Pierce          Fantasy        March 2005   \n",
       "3314                  Iain M. Banks  Science Fiction  October 4th 2012   \n",
       "\n",
       "      num_of_page review_count rating_count  rate  \n",
       "6368        333.0          383        3,307  4.09  \n",
       "6975        688.0          546       16,092  3.87  \n",
       "7646        336.0           59          654  3.77  \n",
       "1938        336.0          907       10,955  4.11  \n",
       "5968        352.0          398        3,722  4.01  \n",
       "9383        321.0          262        5,278  3.83  \n",
       "6949        400.0          454        4,704  4.20  \n",
       "7942        288.0          143        1,793  3.86  \n",
       "5896        590.0           44        4,509  4.57  \n",
       "3314        517.0        1,282       22,460  4.17  "
      ]
     },
     "execution_count": 9,
     "metadata": {},
     "output_type": "execute_result"
    }
   ],
   "source": [
    "alt_book_data['genre']=alt_book_data['genre'].str.split(',').str[0]\n",
    "\n",
    "alt_book_data.sample(10)"
   ]
  },
  {
   "attachments": {},
   "cell_type": "markdown",
   "metadata": {},
   "source": [
    "## Renamed the \"rate\" colum to \"rating\" using the rename() function"
   ]
  },
  {
   "cell_type": "code",
   "execution_count": 10,
   "metadata": {},
   "outputs": [
    {
     "name": "stdout",
     "output_type": "stream",
     "text": [
      "<class 'pandas.core.frame.DataFrame'>\n",
      "Int64Index: 7960 entries, 0 to 10017\n",
      "Data columns (total 8 columns):\n",
      " #   Column          Non-Null Count  Dtype  \n",
      "---  ------          --------------  -----  \n",
      " 0   title           7960 non-null   object \n",
      " 1   author          7960 non-null   object \n",
      " 2   genre           7960 non-null   object \n",
      " 3   date_published  7960 non-null   object \n",
      " 4   num_of_page     7960 non-null   float64\n",
      " 5   review_count    7960 non-null   object \n",
      " 6   rating_count    7960 non-null   object \n",
      " 7   rating          7960 non-null   float64\n",
      "dtypes: float64(2), object(6)\n",
      "memory usage: 559.7+ KB\n"
     ]
    }
   ],
   "source": [
    "alt_book_data.rename(columns = {'rate':'rating'}, inplace = True)\n",
    "alt_book_data.info()"
   ]
  },
  {
   "attachments": {},
   "cell_type": "markdown",
   "metadata": {},
   "source": [
    "# Analyze Data"
   ]
  },
  {
   "attachments": {},
   "cell_type": "markdown",
   "metadata": {},
   "source": [
    "## Use mean() function to find the average rating of all the titles"
   ]
  },
  {
   "cell_type": "code",
   "execution_count": 11,
   "metadata": {},
   "outputs": [
    {
     "data": {
      "text/plain": [
       "3.9643643216080404"
      ]
     },
     "execution_count": 11,
     "metadata": {},
     "output_type": "execute_result"
    }
   ],
   "source": [
    "alt_book_data['rating'].mean()"
   ]
  },
  {
   "attachments": {},
   "cell_type": "markdown",
   "metadata": {},
   "source": [
    "## Use .sum() to find the total number of pages in all of the books combined"
   ]
  },
  {
   "cell_type": "code",
   "execution_count": 12,
   "metadata": {},
   "outputs": [
    {
     "data": {
      "text/plain": [
       "2882223.0"
      ]
     },
     "execution_count": 12,
     "metadata": {},
     "output_type": "execute_result"
    }
   ],
   "source": [
    "alt_book_data['num_of_page'].sum()"
   ]
  },
  {
   "attachments": {},
   "cell_type": "markdown",
   "metadata": {},
   "source": [
    "## Use .mean() function along with .nlargest() function to show top 5 genres based on ratings as well as show that information on a graph"
   ]
  },
  {
   "cell_type": "code",
   "execution_count": 13,
   "metadata": {},
   "outputs": [
    {
     "name": "stdout",
     "output_type": "stream",
     "text": [
      "genre\n",
      "Humanities       4.610\n",
      "Urban            4.509\n",
      "Inspirational    4.490\n",
      "Classics         4.340\n",
      "Labor            4.340\n",
      "Name: rating, dtype: float64\n"
     ]
    }
   ],
   "source": [
    "top_genres = alt_book_data.groupby('genre')['rating'].mean().nlargest(5)\n",
    "\n",
    "print(top_genres)"
   ]
  },
  {
   "cell_type": "code",
   "execution_count": 14,
   "metadata": {},
   "outputs": [
    {
     "data": {
      "image/png": "[encoded data removed]",
      "text/plain": [
       "<Figure size 640x480 with 1 Axes>"
      ]
     },
     "metadata": {},
     "output_type": "display_data"
    }
   ],
   "source": [
    "colors = ['tab:blue', 'tab:orange', 'tab:green', 'tab:red', 'tab:purple']\n",
    "plt.bar(top_genres.index, top_genres.values, color=colors)\n",
    "plt.title('Top 5 Genres by Average Rating')\n",
    "plt.xlabel('Genre')\n",
    "plt.ylabel('Average Rating')\n",
    "plt.show()"
   ]
  },
  {
   "attachments": {},
   "cell_type": "markdown",
   "metadata": {},
   "source": [
    "## Use .nlargest() to create a new dataframe that shows the 5 titles with the highest number of pages"
   ]
  },
  {
   "cell_type": "code",
   "execution_count": 15,
   "metadata": {},
   "outputs": [
    {
     "name": "stdout",
     "output_type": "stream",
     "text": [
      "                                                  title  num_of_page\n",
      "5490           Harry Potter Boxset (Harry Potter, #1-7)       4167.0\n",
      "2900  A Song of Ice and Fire (A Song of Ice and Fire...       4081.0\n",
      "9202  The Dark Tower Series: Books 1-7 (The Dark Tow...       3914.0\n",
      "7832       Harry Potter Collection (Harry Potter, #1-6)       3342.0\n",
      "6124  The Collected Joe Abercrombie: The Blade Itsel...       3008.0\n"
     ]
    }
   ],
   "source": [
    "top_titles = alt_book_data.nlargest(5, 'num_of_page')\n",
    "\n",
    "print(top_titles[['title', 'num_of_page']])"
   ]
  },
  {
   "attachments": {},
   "cell_type": "markdown",
   "metadata": {},
   "source": [
    "## Use .count() function along with .nlargest() function to show the 5 authors with the most titles as well as show that information on a graph"
   ]
  },
  {
   "cell_type": "code",
   "execution_count": 16,
   "metadata": {},
   "outputs": [
    {
     "name": "stdout",
     "output_type": "stream",
     "text": [
      "author\n",
      "Lynsay Sands        26\n",
      "Stephen King        21\n",
      "Kelley Armstrong    20\n",
      "Lucian Bane         20\n",
      "Richelle Mead       20\n",
      "Name: title, dtype: int64\n"
     ]
    }
   ],
   "source": [
    "top_authors = alt_book_data.groupby('author')['title'].count().nlargest(5)\n",
    "\n",
    "print(top_authors)"
   ]
  },
  {
   "cell_type": "code",
   "execution_count": 17,
   "metadata": {},
   "outputs": [
    {
     "data": {
      "image/png": "[encoded data removed]",
      "text/plain": [
       "<Figure size 800x600 with 1 Axes>"
      ]
     },
     "metadata": {},
     "output_type": "display_data"
    }
   ],
   "source": [
    "plt.figure(figsize=(8, 6))\n",
    "colors = ['tab:red', 'tab:orange', 'tab:blue', 'tab:green', 'tab:purple']\n",
    "plt.bar(top_authors.index, top_authors.values, color=colors)\n",
    "plt.title('The 5 Authors With the Most Titles')\n",
    "plt.xlabel('Author')\n",
    "plt.ylabel('# of Titles')\n",
    "plt.show()"
   ]
  }
 ],
 "metadata": {
  "kernelspec": {
   "display_name": "Python 3",
   "language": "python",
   "name": "python3"
  },
  "language_info": {
   "codemirror_mode": {
    "name": "ipython",
    "version": 3
   },
   "file_extension": ".py",
   "mimetype": "text/x-python",
   "name": "python",
   "nbconvert_exporter": "python",
   "pygments_lexer": "ipython3",
   "version": "3.11.1"
  },
  "orig_nbformat": 4,
  "vscode": {
   "interpreter": {
    "hash": "c19fcfbef25e0793fe4e1245110512e3a3d9ac917435d41f597d2a9d1fc970d3"
   }
  }
 },
 "nbformat": 4,
 "nbformat_minor": 2
}
