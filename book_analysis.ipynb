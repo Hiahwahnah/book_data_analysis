{
 "cells": [
  {
   "attachments": {},
   "cell_type": "markdown",
   "metadata": {},
   "source": [
    "# Import Needed Modules"
   ]
  },
  {
   "cell_type": "code",
   "execution_count": 14,
   "metadata": {},
   "outputs": [],
   "source": [
    "import pandas as pd\n",
    "import matplotlib.pyplot as plt"
   ]
  },
  {
   "attachments": {},
   "cell_type": "markdown",
   "metadata": {},
   "source": [
    "# Read Data In"
   ]
  },
  {
   "attachments": {},
   "cell_type": "markdown",
   "metadata": {},
   "source": [
    "## Use Pandas read_csv to bring in the local CSV"
   ]
  },
  {
   "cell_type": "code",
   "execution_count": 15,
   "metadata": {},
   "outputs": [],
   "source": [
    "book_data = pd.read_csv(\"assets/best_book_21st.csv\")"
   ]
  },
  {
   "attachments": {},
   "cell_type": "markdown",
   "metadata": {},
   "source": [
    "## Use columns function to see what columns are included in the data and to see the exact spelling of the column."
   ]
  },
  {
   "cell_type": "code",
   "execution_count": 16,
   "metadata": {},
   "outputs": [
    {
     "data": {
      "text/plain": [
       "Index(['id', 'title', 'series', 'author', 'book_link', 'genre',\n",
       "       'date_published', 'publisher', 'num_of_page', 'lang', 'review_count',\n",
       "       'rating_count', 'rate', 'award'],\n",
       "      dtype='object')"
      ]
     },
     "execution_count": 16,
     "metadata": {},
     "output_type": "execute_result"
    }
   ],
   "source": [
    "book_data.columns"
   ]
  },
  {
   "attachments": {},
   "cell_type": "markdown",
   "metadata": {},
   "source": [
    "# Manipulate and Clean Data"
   ]
  },
  {
   "attachments": {},
   "cell_type": "markdown",
   "metadata": {},
   "source": [
    "## Start by dropping unneeded columns using the drop() function\n",
    "\n",
    "## Then use the info() function to gather information and see what else is needed to clean the data"
   ]
  },
  {
   "cell_type": "code",
   "execution_count": 17,
   "metadata": {},
   "outputs": [
    {
     "name": "stdout",
     "output_type": "stream",
     "text": [
      "<class 'pandas.core.frame.DataFrame'>\n",
      "RangeIndex: 10018 entries, 0 to 10017\n",
      "Data columns (total 8 columns):\n",
      " #   Column          Non-Null Count  Dtype  \n",
      "---  ------          --------------  -----  \n",
      " 0   title           10018 non-null  object \n",
      " 1   author          10003 non-null  object \n",
      " 2   genre           9019 non-null   object \n",
      " 3   date_published  9970 non-null   object \n",
      " 4   num_of_page     9737 non-null   float64\n",
      " 5   review_count    10003 non-null  object \n",
      " 6   rating_count    10003 non-null  object \n",
      " 7   rate            10003 non-null  float64\n",
      "dtypes: float64(2), object(6)\n",
      "memory usage: 626.2+ KB\n"
     ]
    }
   ],
   "source": [
    "alt_book_data = book_data.drop(columns=['id', 'series', 'book_link', 'publisher', 'lang', 'award'])\n",
    "\n",
    "alt_book_data.info()"
   ]
  },
  {
   "attachments": {},
   "cell_type": "markdown",
   "metadata": {},
   "source": [
    "## Use value_counts() function to find duplicate titles"
   ]
  },
  {
   "cell_type": "code",
   "execution_count": 18,
   "metadata": {},
   "outputs": [
    {
     "data": {
      "text/plain": [
       "Bloodlines (Bloodlines, #1)                                              4\n",
       "The Shack                                                                3\n",
       "The God Delusion                                                         3\n",
       "Prey                                                                     3\n",
       "Dominion                                                                 3\n",
       "                                                                        ..\n",
       "Shakespeare Saved My Life                                                1\n",
       "The Power (The Secret, #2)                                               1\n",
       "Henna House                                                              1\n",
       "I Remember Running: The Year I Got Everything I Ever Wanted - and ALS    1\n",
       "The Immortal Hunter (Argeneau #11; Rogue Hunter #2)                      1\n",
       "Name: title, Length: 9098, dtype: int64"
      ]
     },
     "execution_count": 18,
     "metadata": {},
     "output_type": "execute_result"
    }
   ],
   "source": [
    "alt_book_data['title'].value_counts()"
   ]
  },
  {
   "attachments": {},
   "cell_type": "markdown",
   "metadata": {},
   "source": [
    "## Use drop_duplicates() function to drop any duplicate titles making sure to keep the first instance of each duplicate so that we don't lose any data"
   ]
  },
  {
   "cell_type": "code",
   "execution_count": 19,
   "metadata": {},
   "outputs": [],
   "source": [
    "alt_book_data.drop_duplicates(subset='title', keep='first', inplace=True)"
   ]
  },
  {
   "attachments": {},
   "cell_type": "markdown",
   "metadata": {},
   "source": [
    "## Use isnull().sum() to see the number of missing values in the dataset"
   ]
  },
  {
   "cell_type": "code",
   "execution_count": 20,
   "metadata": {},
   "outputs": [
    {
     "data": {
      "text/plain": [
       "title               0\n",
       "author             15\n",
       "genre             974\n",
       "date_published     47\n",
       "num_of_page       278\n",
       "review_count       15\n",
       "rating_count       15\n",
       "rate               15\n",
       "dtype: int64"
      ]
     },
     "execution_count": 20,
     "metadata": {},
     "output_type": "execute_result"
    }
   ],
   "source": [
    "alt_book_data.isnull().sum()"
   ]
  },
  {
   "attachments": {},
   "cell_type": "markdown",
   "metadata": {},
   "source": [
    "## Use dropna() function to remove the rows that contain null values"
   ]
  },
  {
   "cell_type": "code",
   "execution_count": 21,
   "metadata": {},
   "outputs": [],
   "source": [
    "alt_book_data.dropna(inplace=True)"
   ]
  },
  {
   "attachments": {},
   "cell_type": "markdown",
   "metadata": {},
   "source": [
    "## Use split() function to drop the comma and everything after it in the genre column\n",
    "\n",
    "## Use sample() function to view what data looks like at this point"
   ]
  },
  {
   "cell_type": "code",
   "execution_count": 22,
   "metadata": {},
   "outputs": [
    {
     "data": {
      "text/html": [
       "<div>\n",
       "<style scoped>\n",
       "    .dataframe tbody tr th:only-of-type {\n",
       "        vertical-align: middle;\n",
       "    }\n",
       "\n",
       "    .dataframe tbody tr th {\n",
       "        vertical-align: top;\n",
       "    }\n",
       "\n",
       "    .dataframe thead th {\n",
       "        text-align: right;\n",
       "    }\n",
       "</style>\n",
       "<table border=\"1\" class=\"dataframe\">\n",
       "  <thead>\n",
       "    <tr style=\"text-align: right;\">\n",
       "      <th></th>\n",
       "      <th>title</th>\n",
       "      <th>author</th>\n",
       "      <th>genre</th>\n",
       "      <th>date_published</th>\n",
       "      <th>num_of_page</th>\n",
       "      <th>review_count</th>\n",
       "      <th>rating_count</th>\n",
       "      <th>rate</th>\n",
       "    </tr>\n",
       "  </thead>\n",
       "  <tbody>\n",
       "    <tr>\n",
       "      <th>1800</th>\n",
       "      <td>The Hard Way (Jack Reacher, #10)</td>\n",
       "      <td>Lee Child</td>\n",
       "      <td>Thriller</td>\n",
       "      <td>May 16th 2006</td>\n",
       "      <td>384.0</td>\n",
       "      <td>2,912</td>\n",
       "      <td>72,911</td>\n",
       "      <td>4.16</td>\n",
       "    </tr>\n",
       "    <tr>\n",
       "      <th>3322</th>\n",
       "      <td>The Summer Before the War</td>\n",
       "      <td>Helen Simonson</td>\n",
       "      <td>Historical</td>\n",
       "      <td>March 22nd 2016</td>\n",
       "      <td>496.0</td>\n",
       "      <td>5,422</td>\n",
       "      <td>40,763</td>\n",
       "      <td>3.77</td>\n",
       "    </tr>\n",
       "    <tr>\n",
       "      <th>8974</th>\n",
       "      <td>How to Become a Planet</td>\n",
       "      <td>Nicole Melleby</td>\n",
       "      <td>Childrens</td>\n",
       "      <td>May 25th 2021</td>\n",
       "      <td>288.0</td>\n",
       "      <td>128</td>\n",
       "      <td>356</td>\n",
       "      <td>4.34</td>\n",
       "    </tr>\n",
       "    <tr>\n",
       "      <th>7952</th>\n",
       "      <td>Time Spike</td>\n",
       "      <td>Eric Flint,Marilyn Kosmatka,David B. Mattingly</td>\n",
       "      <td>Science Fiction</td>\n",
       "      <td>May 6th 2008</td>\n",
       "      <td>467.0</td>\n",
       "      <td>59</td>\n",
       "      <td>774</td>\n",
       "      <td>3.68</td>\n",
       "    </tr>\n",
       "    <tr>\n",
       "      <th>3576</th>\n",
       "      <td>Must Love Dogs (Must Love Dogs, #1)</td>\n",
       "      <td>Claire Cook</td>\n",
       "      <td>Romance</td>\n",
       "      <td>July 1st 2005</td>\n",
       "      <td>292.0</td>\n",
       "      <td>617</td>\n",
       "      <td>9,506</td>\n",
       "      <td>3.58</td>\n",
       "    </tr>\n",
       "    <tr>\n",
       "      <th>6113</th>\n",
       "      <td>Rome: The Coming of the King (Rome, #2)</td>\n",
       "      <td>M.C. Scott</td>\n",
       "      <td>Historical</td>\n",
       "      <td>June 6th 2011</td>\n",
       "      <td>411.0</td>\n",
       "      <td>41</td>\n",
       "      <td>475</td>\n",
       "      <td>4.12</td>\n",
       "    </tr>\n",
       "    <tr>\n",
       "      <th>7601</th>\n",
       "      <td>The Fall of the Roman Empire: A New History of...</td>\n",
       "      <td>Peter Heather</td>\n",
       "      <td>History</td>\n",
       "      <td>June 1st 2007</td>\n",
       "      <td>592.0</td>\n",
       "      <td>235</td>\n",
       "      <td>3,687</td>\n",
       "      <td>4.14</td>\n",
       "    </tr>\n",
       "    <tr>\n",
       "      <th>5235</th>\n",
       "      <td>Democracy in Chains: The Deep History of the R...</td>\n",
       "      <td>Nancy MacLean</td>\n",
       "      <td>Politics</td>\n",
       "      <td>June 13th 2017</td>\n",
       "      <td>334.0</td>\n",
       "      <td>755</td>\n",
       "      <td>3,734</td>\n",
       "      <td>4.28</td>\n",
       "    </tr>\n",
       "    <tr>\n",
       "      <th>8058</th>\n",
       "      <td>Tri Mates (Cascadia Wolves, #2)</td>\n",
       "      <td>Lauren Dane</td>\n",
       "      <td>Fantasy</td>\n",
       "      <td>December 8th 2006</td>\n",
       "      <td>136.0</td>\n",
       "      <td>105</td>\n",
       "      <td>2,497</td>\n",
       "      <td>4.02</td>\n",
       "    </tr>\n",
       "    <tr>\n",
       "      <th>5361</th>\n",
       "      <td>June’s Stolen Rose (Seasons of Love and War Bo...</td>\n",
       "      <td>Brenda Ashworth Barry</td>\n",
       "      <td>Fiction</td>\n",
       "      <td>August 6th 2015</td>\n",
       "      <td>232.0</td>\n",
       "      <td>8</td>\n",
       "      <td>25</td>\n",
       "      <td>4.68</td>\n",
       "    </tr>\n",
       "  </tbody>\n",
       "</table>\n",
       "</div>"
      ],
      "text/plain": [
       "                                                  title  \\\n",
       "1800                   The Hard Way (Jack Reacher, #10)   \n",
       "3322                          The Summer Before the War   \n",
       "8974                             How to Become a Planet   \n",
       "7952                                         Time Spike   \n",
       "3576                Must Love Dogs (Must Love Dogs, #1)   \n",
       "6113            Rome: The Coming of the King (Rome, #2)   \n",
       "7601  The Fall of the Roman Empire: A New History of...   \n",
       "5235  Democracy in Chains: The Deep History of the R...   \n",
       "8058                    Tri Mates (Cascadia Wolves, #2)   \n",
       "5361  June’s Stolen Rose (Seasons of Love and War Bo...   \n",
       "\n",
       "                                              author            genre  \\\n",
       "1800                                       Lee Child         Thriller   \n",
       "3322                                  Helen Simonson       Historical   \n",
       "8974                                  Nicole Melleby        Childrens   \n",
       "7952  Eric Flint,Marilyn Kosmatka,David B. Mattingly  Science Fiction   \n",
       "3576                                     Claire Cook          Romance   \n",
       "6113                                      M.C. Scott       Historical   \n",
       "7601                                   Peter Heather          History   \n",
       "5235                                   Nancy MacLean         Politics   \n",
       "8058                                     Lauren Dane          Fantasy   \n",
       "5361                           Brenda Ashworth Barry          Fiction   \n",
       "\n",
       "         date_published  num_of_page review_count rating_count  rate  \n",
       "1800      May 16th 2006        384.0        2,912       72,911  4.16  \n",
       "3322    March 22nd 2016        496.0        5,422       40,763  3.77  \n",
       "8974      May 25th 2021        288.0          128          356  4.34  \n",
       "7952       May 6th 2008        467.0           59          774  3.68  \n",
       "3576      July 1st 2005        292.0          617        9,506  3.58  \n",
       "6113      June 6th 2011        411.0           41          475  4.12  \n",
       "7601      June 1st 2007        592.0          235        3,687  4.14  \n",
       "5235     June 13th 2017        334.0          755        3,734  4.28  \n",
       "8058  December 8th 2006        136.0          105        2,497  4.02  \n",
       "5361    August 6th 2015        232.0            8           25  4.68  "
      ]
     },
     "execution_count": 22,
     "metadata": {},
     "output_type": "execute_result"
    }
   ],
   "source": [
    "alt_book_data['genre']=alt_book_data['genre'].str.split(',').str[0]\n",
    "\n",
    "alt_book_data.sample(10)"
   ]
  },
  {
   "attachments": {},
   "cell_type": "markdown",
   "metadata": {},
   "source": [
    "## Convert the review_count column to int using astype() function"
   ]
  },
  {
   "cell_type": "code",
   "execution_count": 23,
   "metadata": {},
   "outputs": [],
   "source": [
    "alt_book_data['review_count'] = alt_book_data['review_count'].str.replace(',', '').astype(int)"
   ]
  },
  {
   "attachments": {},
   "cell_type": "markdown",
   "metadata": {},
   "source": [
    "## Rename the \"rate\" column to \"rating\" using the rename() function"
   ]
  },
  {
   "cell_type": "code",
   "execution_count": 24,
   "metadata": {},
   "outputs": [
    {
     "name": "stdout",
     "output_type": "stream",
     "text": [
      "<class 'pandas.core.frame.DataFrame'>\n",
      "Int64Index: 7960 entries, 0 to 10017\n",
      "Data columns (total 8 columns):\n",
      " #   Column          Non-Null Count  Dtype  \n",
      "---  ------          --------------  -----  \n",
      " 0   title           7960 non-null   object \n",
      " 1   author          7960 non-null   object \n",
      " 2   genre           7960 non-null   object \n",
      " 3   date_published  7960 non-null   object \n",
      " 4   num_of_page     7960 non-null   float64\n",
      " 5   review_count    7960 non-null   int32  \n",
      " 6   rating_count    7960 non-null   object \n",
      " 7   rating          7960 non-null   float64\n",
      "dtypes: float64(2), int32(1), object(5)\n",
      "memory usage: 528.6+ KB\n"
     ]
    }
   ],
   "source": [
    "alt_book_data.rename(columns = {'rate':'rating'}, inplace = True)\n",
    "alt_book_data.info()"
   ]
  },
  {
   "attachments": {},
   "cell_type": "markdown",
   "metadata": {},
   "source": [
    "# Analyze Data and Visualize Data"
   ]
  },
  {
   "attachments": {},
   "cell_type": "markdown",
   "metadata": {},
   "source": [
    "## Use .mean() function to find the average rating of all the titles on a scale of 1-5"
   ]
  },
  {
   "cell_type": "code",
   "execution_count": 25,
   "metadata": {},
   "outputs": [
    {
     "data": {
      "text/plain": [
       "3.9643643216080404"
      ]
     },
     "execution_count": 25,
     "metadata": {},
     "output_type": "execute_result"
    }
   ],
   "source": [
    "alt_book_data['rating'].mean()"
   ]
  },
  {
   "attachments": {},
   "cell_type": "markdown",
   "metadata": {},
   "source": [
    "## Use .sum() to find the total number of pages in all of the books combined"
   ]
  },
  {
   "cell_type": "code",
   "execution_count": 26,
   "metadata": {},
   "outputs": [
    {
     "data": {
      "text/plain": [
       "2882223.0"
      ]
     },
     "execution_count": 26,
     "metadata": {},
     "output_type": "execute_result"
    }
   ],
   "source": [
    "alt_book_data['num_of_page'].sum()"
   ]
  },
  {
   "attachments": {},
   "cell_type": "markdown",
   "metadata": {},
   "source": [
    "## Use .nlargest() to create a new dataframe that shows the 5 titles with the highest number of pages"
   ]
  },
  {
   "cell_type": "code",
   "execution_count": 27,
   "metadata": {},
   "outputs": [
    {
     "name": "stdout",
     "output_type": "stream",
     "text": [
      "                                                  title  num_of_page\n",
      "5490           Harry Potter Boxset (Harry Potter, #1-7)       4167.0\n",
      "2900  A Song of Ice and Fire (A Song of Ice and Fire...       4081.0\n",
      "9202  The Dark Tower Series: Books 1-7 (The Dark Tow...       3914.0\n",
      "7832       Harry Potter Collection (Harry Potter, #1-6)       3342.0\n",
      "6124  The Collected Joe Abercrombie: The Blade Itsel...       3008.0\n"
     ]
    }
   ],
   "source": [
    "top_titles = alt_book_data.nlargest(5, 'num_of_page')\n",
    "\n",
    "print(top_titles[['title', 'num_of_page']])"
   ]
  },
  {
   "attachments": {},
   "cell_type": "markdown",
   "metadata": {},
   "source": [
    "## Use .count() function along with .nlargest() function to show the 5 authors with the most titles as well as show that information on a graph"
   ]
  },
  {
   "cell_type": "code",
   "execution_count": 28,
   "metadata": {},
   "outputs": [
    {
     "name": "stdout",
     "output_type": "stream",
     "text": [
      "author\n",
      "Lynsay Sands        26\n",
      "Stephen King        21\n",
      "Kelley Armstrong    20\n",
      "Lucian Bane         20\n",
      "Richelle Mead       20\n",
      "Name: title, dtype: int64\n"
     ]
    }
   ],
   "source": [
    "top_authors = alt_book_data.groupby('author')['title'].count().nlargest(5)\n",
    "\n",
    "print(top_authors)"
   ]
  },
  {
   "cell_type": "code",
   "execution_count": 29,
   "metadata": {},
   "outputs": [
    {
     "data": {
      "image/png": "[encoded data removed]",
      "text/plain": [
       "<Figure size 800x600 with 1 Axes>"
      ]
     },
     "metadata": {},
     "output_type": "display_data"
    }
   ],
   "source": [
    "plt.figure(figsize=(8, 6))\n",
    "colors = ['tab:red', 'tab:orange', 'tab:blue', 'tab:green', 'tab:purple']\n",
    "plt.bar(top_authors.index, top_authors.values, color=colors)\n",
    "plt.title('The 5 Authors With the Most Titles')\n",
    "plt.xlabel('Author')\n",
    "plt.ylabel('# of Titles')\n",
    "plt.show()"
   ]
  },
  {
   "attachments": {},
   "cell_type": "markdown",
   "metadata": {},
   "source": [
    "## Use .groupby(), .agg(), and sort_values() functions to identify the top five book genres based on their average rating and total number of reviews, but only considering genres that have at least 100 reviews."
   ]
  },
  {
   "cell_type": "code",
   "execution_count": 30,
   "metadata": {},
   "outputs": [
    {
     "name": "stdout",
     "output_type": "stream",
     "text": [
      "               rating  review_count\n",
      "genre                              \n",
      "Urban        4.509000          1358\n",
      "Classics     4.340000           158\n",
      "Polyamorous  4.326667          2639\n",
      "Language     4.245000           235\n",
      "Amish        4.238333          1816\n"
     ]
    }
   ],
   "source": [
    "top_genres = alt_book_data.groupby('genre').agg({'rating': 'mean', 'review_count': 'sum'})\n",
    "top_genres = top_genres[top_genres['review_count'] >= 100]\n",
    "top_genres = top_genres.sort_values(by=['rating', 'review_count'], ascending=False).head(5)\n",
    "\n",
    "print(top_genres)"
   ]
  },
  {
   "cell_type": "code",
   "execution_count": 31,
   "metadata": {},
   "outputs": [
    {
     "data": {
      "image/png": "[encoded data removed]",
      "text/plain": [
       "<Figure size 800x600 with 1 Axes>"
      ]
     },
     "metadata": {},
     "output_type": "display_data"
    }
   ],
   "source": [
    "fig, ax = plt.subplots(figsize=(8, 6))\n",
    "colors = ['tab:blue', 'tab:green', 'tab:purple', 'tab:red', 'tab:orange']\n",
    "ax.bar(top_genres.index, top_genres['rating'], color=colors)\n",
    "ax.set_title('Top Genres by Rating')\n",
    "ax.set_xlabel('Genre')\n",
    "ax.set_ylabel('Rating')\n",
    "plt.show()"
   ]
  },
  {
   "attachments": {},
   "cell_type": "markdown",
   "metadata": {},
   "source": [
    "# Interpret Data"
   ]
  },
  {
   "attachments": {},
   "cell_type": "markdown",
   "metadata": {},
   "source": [
    "* The average rating between all titles is 3.96 out of 5. I found this to be higher than I expected.\n",
    "* There is a total of 2882223 pages combined between all of the titles. \n",
    "* The title with the highest number of pages was Harry Potter Boxset (Books #1-7). Not surprising as there are 7 very large titles rolled into 1 title.\n",
    "* The author with the most titles was Lynsay Sands with 26. This wassurprising because I expected someone like Stephen King.\n",
    "* Finally the top genre based on ratings was the Urban genre. I expected it to be Science Fiction or Classics but, alas, that was not the case."
   ]
  }
 ],
 "metadata": {
  "kernelspec": {
   "display_name": "Python 3",
   "language": "python",
   "name": "python3"
  },
  "language_info": {
   "codemirror_mode": {
    "name": "ipython",
    "version": 3
   },
   "file_extension": ".py",
   "mimetype": "text/x-python",
   "name": "python",
   "nbconvert_exporter": "python",
   "pygments_lexer": "ipython3",
   "version": "3.11.1"
  },
  "orig_nbformat": 4,
  "vscode": {
   "interpreter": {
    "hash": "c19fcfbef25e0793fe4e1245110512e3a3d9ac917435d41f597d2a9d1fc970d3"
   }
  }
 },
 "nbformat": 4,
 "nbformat_minor": 2
}
